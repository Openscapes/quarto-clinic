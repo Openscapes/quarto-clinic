---
title: "`demo.ipynb`"
---

Quarto can render Jupyter notebooks represented as plain text (.qmd) or as a normal notebook file (.ipynb). One benefit of using .ipynb is that you can use JupyterLab as your editor.

https://quarto.org/docs/tools/jupyter-lab.html